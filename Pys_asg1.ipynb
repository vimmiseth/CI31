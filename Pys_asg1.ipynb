{
  "nbformat": 4,
  "nbformat_minor": 0,
  "metadata": {
    "colab": {
      "name": "Pys_asg1.ipynb",
      "provenance": [],
      "collapsed_sections": [],
      "authorship_tag": "ABX9TyN1rEEq8lofvyw7fiOP7Ou0",
      "include_colab_link": true
    },
    "kernelspec": {
      "name": "python3",
      "display_name": "Python 3"
    },
    "language_info": {
      "name": "python"
    }
  },
  "cells": [
    {
      "cell_type": "markdown",
      "metadata": {
        "id": "view-in-github",
        "colab_type": "text"
      },
      "source": [
        "<a href=\"https://colab.research.google.com/github/vimmiseth/CI31/blob/master/Pys_asg1.ipynb\" target=\"_parent\"><img src=\"https://colab.research.google.com/assets/colab-badge.svg\" alt=\"Open In Colab\"/></a>"
      ]
    },
    {
      "cell_type": "code",
      "execution_count": 14,
      "metadata": {
        "id": "1t6r9n2uGTGa",
        "colab": {
          "base_uri": "https://localhost:8080/"
        },
        "outputId": "526b7e53-c0fe-4b72-8cd3-2a60bf70ca79"
      },
      "outputs": [
        {
          "output_type": "stream",
          "name": "stdout",
          "text": [
            "['teacher']\n"
          ]
        }
      ],
      "source": [
        "import requests\n",
        "import pandas as pd\n",
        "url = 'https://github.com/vimmiseth/PySparkPracs/blob/main/data1.xlsx'\n",
        "response = requests.get(url)\n",
        "\n",
        "df2 = pd.ExcelFile('https://github.com/vimmiseth/PySparkPracs/blob/main/data1.xlsx?raw=true')\n",
        "print(df2.sheet_names)\n"
      ]
    },
    {
      "cell_type": "code",
      "source": [
        "import requests\n",
        "import pandas as pd\n",
        "url = 'https://github.com/vimmiseth/PySparkPracs/blob/main/Assessment.xlsx'\n",
        "\n",
        "response = requests.get(url)\n",
        "\n",
        "df2 = pd.ExcelFile('https://github.com/vimmiseth/PySparkPracs/blob/main/Assessment.xlsx?raw=true')\n",
        "print(df2.sheet_names)\n"
      ],
      "metadata": {
        "colab": {
          "base_uri": "https://localhost:8080/"
        },
        "id": "k5vjEAmOYlK8",
        "outputId": "4fa692eb-8c2f-4c95-ad35-87a463416a8d"
      },
      "execution_count": 15,
      "outputs": [
        {
          "output_type": "stream",
          "name": "stdout",
          "text": [
            "['teacher', 'Student']\n"
          ]
        }
      ]
    }
  ]
}